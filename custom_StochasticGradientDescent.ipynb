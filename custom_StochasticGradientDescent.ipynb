{
  "nbformat": 4,
  "nbformat_minor": 0,
  "metadata": {
    "colab": {
      "name": "custom_StochasticGradientDescent.ipynb",
      "provenance": [],
      "authorship_tag": "ABX9TyOcXs8eLrQqowc/W39j+36e",
      "include_colab_link": true
    },
    "kernelspec": {
      "name": "python3",
      "display_name": "Python 3"
    }
  },
  "cells": [
    {
      "cell_type": "markdown",
      "metadata": {
        "id": "view-in-github",
        "colab_type": "text"
      },
      "source": [
        "<a href=\"https://colab.research.google.com/github/nikit34/BlackJack/blob/master/custom_StochasticGradientDescent.ipynb\" target=\"_parent\"><img src=\"https://colab.research.google.com/assets/colab-badge.svg\" alt=\"Open In Colab\"/></a>"
      ]
    },
    {
      "cell_type": "code",
      "metadata": {
        "id": "FLp19HU7SXsr"
      },
      "source": [
        "import numpy as np\n",
        "import pandas as pd\n",
        "\n",
        "from sklearn import preprocessing\n",
        "from sklearn.model_selection import train_test_split\n",
        "\n",
        "import matplotlib.pyplot as plt"
      ],
      "execution_count": 238,
      "outputs": []
    },
    {
      "cell_type": "code",
      "metadata": {
        "id": "PooQltRYjFuU"
      },
      "source": [
        "data = pd.read_csv('dataset.csv', sep=',')"
      ],
      "execution_count": 239,
      "outputs": []
    },
    {
      "cell_type": "code",
      "metadata": {
        "id": "w7Eqh6dFq5B5"
      },
      "source": [
        "x = data['weight']\n",
        "y = data['height']\n",
        "x_train, x_test, y_train, y_test = train_test_split(x, y, test_size=0.1, random_state=0)"
      ],
      "execution_count": 240,
      "outputs": []
    },
    {
      "cell_type": "code",
      "metadata": {
        "id": "f7UA60Qn5Xto",
        "outputId": "2c2d9fa8-3621-4d79-d284-505e30fa2881",
        "colab": {
          "base_uri": "https://localhost:8080/",
          "height": 295
        }
      },
      "source": [
        "plt.scatter(x_train, y_train)\n",
        "plt.grid()\n",
        "plt.title('Dependence weight on growth in test data')\n",
        "plt.xlabel('Weight')\n",
        "plt.ylabel('Hight')\n",
        "plt.show()    "
      ],
      "execution_count": 250,
      "outputs": [
        {
          "output_type": "display_data",
          "data": {
            "image/png": "[encoded data removed]",
            "text/plain": [
              "<Figure size 432x288 with 1 Axes>"
            ]
          },
          "metadata": {
            "tags": [],
            "needs_background": "light"
          }
        }
      ]
    },
    {
      "cell_type": "code",
      "metadata": {
        "id": "N5YAAJXYiTXz"
      },
      "source": [
        "x_tmp = np.array(x_train, dtype=np.float128).reshape(-1,1)\n",
        "y_tmp = np.array(y_train, dtype=np.float128).reshape(-1,1)\n",
        "\n",
        "# if do normalization, the number of training periods increases and more memory is required for higher precision numbers\n",
        "# scaler = preprocessing.MaxAbsScaler()\n",
        "# x_tmp = scaler.fit_transform(x_tmp)\n",
        "# y_tmp = scaler.fit_transform(y_tmp)\n",
        "\n",
        "x_train = pd.DataFrame(x_tmp)\n",
        "y_train = pd.DataFrame(y_tmp)"
      ],
      "execution_count": 251,
      "outputs": []
    },
    {
      "cell_type": "code",
      "metadata": {
        "id": "LN36FU66JB1X"
      },
      "source": [
        "class StochasticGradientDescent:\n",
        "    def __init__(self, learn_rate=0.0001, num_iterate=100, k=10):\n",
        "        self.learn_rate = learn_rate\n",
        "        self.num_iterate = num_iterate\n",
        "        self.k = k\n",
        "        \n",
        "        self.weight = None\n",
        "        self.bias = None\n",
        "\n",
        "    def fit(self, x_train, y_train):\n",
        "        len_train = len(x_train)\n",
        "\n",
        "        if len_train != len(y_train) or len_train == 0:\n",
        "            raise IndexError(\"Dimension of data does not match pattern\")\n",
        "\n",
        "        weight_current = np.zeros(shape=(1, x_train.shape[1]))\n",
        "        bias_current = 0\n",
        "        current_iterate = 1\n",
        "\n",
        "        while current_iterate <= self.num_iterate:\n",
        "            weight_old = weight_current\n",
        "            bias_old = bias_current\n",
        "\n",
        "            weight_tmp = np.zeros(shape=(1, x_train.shape[1]))\n",
        "            bias_tmp = 0\n",
        "\n",
        "            random_indexes = np.random.choice(len_train, replace=False, size=self.k) # return rundom indexes (random_state for reproducibility)\n",
        "            x = np.array(x_train.iloc[random_indexes, :])\n",
        "            y = np.array(y_train.iloc[random_indexes, 0])\n",
        "\n",
        "            for i in range(len(x)):\n",
        "                # 'Implicit updates', where -2/k  - can take any number between 0 and 1 or other method optimizing\n",
        "                weight_tmp += x[i] * (y[i] - np.dot(weight_old, x[i]) + bias_old) * (-2 / self.k)  \n",
        "                bias_tmp += (y[i] - (np.dot(weight_old, x[i]) + bias_old)) * (-2 / self.k)\n",
        "\n",
        "            weight_current = weight_old - self.learn_rate * weight_tmp\n",
        "            bias_current = bias_old - self.learn_rate * bias_tmp\n",
        "\n",
        "            if (weight_old == weight_current).all(): # stopped learning \n",
        "                break\n",
        "            current_iterate += 1\n",
        "\n",
        "        self.weight = weight_current\n",
        "        self.bias = bias_current\n",
        "        return weight_current, bias_current\n",
        "\n",
        "    def predict(self, x):\n",
        "        if self.weight is None or self.bias is None:\n",
        "            raise Warning(\"Used parameters dont change\")\n",
        "        y_pred = []\n",
        "        x = np.array(x)\n",
        "        for i in range(len(x)):\n",
        "            y = np.dot(self.weight[0], x[i]) + self.bias\n",
        "            y_pred.append(y.item())\n",
        "        return np.array(y_pred)  "
      ],
      "execution_count": 255,
      "outputs": []
    },
    {
      "cell_type": "code",
      "metadata": {
        "id": "M7sQ-OWmL5LX"
      },
      "source": [
        "SGD = StochasticGradientDescent()\n",
        "SGD.fit(x_train, y_train)\n",
        "y_pred = SGD.predict(x_test)"
      ],
      "execution_count": 256,
      "outputs": []
    },
    {
      "cell_type": "code",
      "metadata": {
        "id": "Tt3SR6GqRK-8",
        "outputId": "516672e0-95b2-4f33-f830-8973405f9778",
        "colab": {
          "base_uri": "https://localhost:8080/",
          "height": 295
        }
      },
      "source": [
        "plt.scatter(y_test, y_pred)\n",
        "plt.grid()\n",
        "plt.title('Scatter plot between true and predicted weight')\n",
        "plt.xlabel('True weight')\n",
        "plt.ylabel('Predicted weight')\n",
        "plt.show()    "
      ],
      "execution_count": 258,
      "outputs": [
        {
          "output_type": "display_data",
          "data": {
            "image/png": "[encoded data removed]",
            "text/plain": [
              "<Figure size 432x288 with 1 Axes>"
            ]
          },
          "metadata": {
            "tags": [],
            "needs_background": "light"
          }
        }
      ]
    },
    {
      "cell_type": "code",
      "metadata": {
        "id": "Ra5zxNDa4lBU"
      },
      "source": [
        ""
      ],
      "execution_count": null,
      "outputs": []
    }
  ]
}